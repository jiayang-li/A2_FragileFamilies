{
 "cells": [
  {
   "cell_type": "markdown",
   "metadata": {},
   "source": [
    "# Pre-Processing Data "
   ]
  },
  {
   "cell_type": "code",
   "execution_count": 1,
   "metadata": {},
   "outputs": [],
   "source": [
    "import csv\n",
    "import numpy as np\n",
    "import pandas as pd"
   ]
  },
  {
   "cell_type": "code",
   "execution_count": 2,
   "metadata": {
    "scrolled": false
   },
   "outputs": [
    {
     "name": "stdout",
     "output_type": "stream",
     "text": [
      "FFMetadata_v0.csv\r\n",
      "Fragile_Familes.ipynb\r\n",
      "Fragile_Families working copy.ipynb\r\n",
      "MissingDataScript.py\r\n",
      "\u001b[31mREADME.txt\u001b[m\u001b[m*\r\n",
      "X_train.txt\r\n",
      "assignment2_fragilefamilies2019.pdf\r\n",
      "\u001b[31mbackground.csv\u001b[m\u001b[m*\r\n",
      "\u001b[31mcodebook_FFChallenge.txt\u001b[m\u001b[m*\r\n",
      "ffchallenge_getting_started_cos424.pdf\r\n",
      "\u001b[31mleaderboard.csv\u001b[m\u001b[m*\r\n",
      "\u001b[31mleaderboardUnfilled.csv\u001b[m\u001b[m*\r\n",
      "output.csv\r\n",
      "precept5_regularization_and_crossvalidation_demo.ipynb\r\n",
      "\u001b[31mprediction.csv\u001b[m\u001b[m*\r\n",
      "\u001b[31mtest.csv\u001b[m\u001b[m*\r\n",
      "\u001b[31mtrain.csv\u001b[m\u001b[m*\r\n",
      "y_train.txt\r\n"
     ]
    }
   ],
   "source": [
    "ls"
   ]
  },
  {
   "cell_type": "code",
   "execution_count": 3,
   "metadata": {},
   "outputs": [],
   "source": [
    "# Read in datasets, with a dublicate of the background data \n",
    "Dataset = pd.read_csv(\"background.csv\",low_memory=False)\n",
    "Dataset_Na = pd.read_csv(\"background.csv\",low_memory=False)\n",
    "Training = pd.read_csv(\"train.csv\",low_memory=False)\n",
    "Testing = pd.read_csv(\"test.csv\",low_memory=False)"
   ]
  },
  {
   "cell_type": "code",
   "execution_count": 4,
   "metadata": {
    "scrolled": true
   },
   "outputs": [
    {
     "data": {
      "text/html": [
       "<div>\n",
       "<style scoped>\n",
       "    .dataframe tbody tr th:only-of-type {\n",
       "        vertical-align: middle;\n",
       "    }\n",
       "\n",
       "    .dataframe tbody tr th {\n",
       "        vertical-align: top;\n",
       "    }\n",
       "\n",
       "    .dataframe thead th {\n",
       "        text-align: right;\n",
       "    }\n",
       "</style>\n",
       "<table border=\"1\" class=\"dataframe\">\n",
       "  <thead>\n",
       "    <tr style=\"text-align: right;\">\n",
       "      <th></th>\n",
       "      <th>challengeID</th>\n",
       "      <th>m1intmon</th>\n",
       "      <th>m1intyr</th>\n",
       "      <th>m1lenhr</th>\n",
       "      <th>m1lenmin</th>\n",
       "      <th>cm1twoc</th>\n",
       "      <th>cm1fint</th>\n",
       "      <th>cm1tdiff</th>\n",
       "      <th>cm1natsm</th>\n",
       "      <th>m1natwt</th>\n",
       "      <th>...</th>\n",
       "      <th>m4d9</th>\n",
       "      <th>m4e23</th>\n",
       "      <th>f4d6</th>\n",
       "      <th>f4d7</th>\n",
       "      <th>f4d9</th>\n",
       "      <th>m5c6</th>\n",
       "      <th>m5d20</th>\n",
       "      <th>m5k10</th>\n",
       "      <th>f5c6</th>\n",
       "      <th>k5f1</th>\n",
       "    </tr>\n",
       "  </thead>\n",
       "  <tbody>\n",
       "    <tr>\n",
       "      <th>0</th>\n",
       "      <td>1</td>\n",
       "      <td>-3</td>\n",
       "      <td>NaN</td>\n",
       "      <td>-3</td>\n",
       "      <td>40</td>\n",
       "      <td>NaN</td>\n",
       "      <td>0</td>\n",
       "      <td>NaN</td>\n",
       "      <td>NaN</td>\n",
       "      <td>NaN</td>\n",
       "      <td>...</td>\n",
       "      <td>-3.0</td>\n",
       "      <td>-3.000000</td>\n",
       "      <td>-3.000000</td>\n",
       "      <td>-3.000000</td>\n",
       "      <td>-3.0</td>\n",
       "      <td>-3.000000</td>\n",
       "      <td>-3.000000</td>\n",
       "      <td>-3</td>\n",
       "      <td>-3.000000</td>\n",
       "      <td>-3.000000</td>\n",
       "    </tr>\n",
       "    <tr>\n",
       "      <th>1</th>\n",
       "      <td>2</td>\n",
       "      <td>-3</td>\n",
       "      <td>NaN</td>\n",
       "      <td>0</td>\n",
       "      <td>40</td>\n",
       "      <td>NaN</td>\n",
       "      <td>1</td>\n",
       "      <td>NaN</td>\n",
       "      <td>NaN</td>\n",
       "      <td>NaN</td>\n",
       "      <td>...</td>\n",
       "      <td>-3.0</td>\n",
       "      <td>8.473318</td>\n",
       "      <td>-3.000000</td>\n",
       "      <td>-3.000000</td>\n",
       "      <td>-3.0</td>\n",
       "      <td>-3.000000</td>\n",
       "      <td>9.845074</td>\n",
       "      <td>-3</td>\n",
       "      <td>-3.000000</td>\n",
       "      <td>9.723551</td>\n",
       "    </tr>\n",
       "    <tr>\n",
       "      <th>2</th>\n",
       "      <td>3</td>\n",
       "      <td>-3</td>\n",
       "      <td>NaN</td>\n",
       "      <td>0</td>\n",
       "      <td>35</td>\n",
       "      <td>NaN</td>\n",
       "      <td>1</td>\n",
       "      <td>NaN</td>\n",
       "      <td>NaN</td>\n",
       "      <td>NaN</td>\n",
       "      <td>...</td>\n",
       "      <td>-3.0</td>\n",
       "      <td>-3.000000</td>\n",
       "      <td>9.097495</td>\n",
       "      <td>10.071504</td>\n",
       "      <td>-3.0</td>\n",
       "      <td>-3.000000</td>\n",
       "      <td>-3.000000</td>\n",
       "      <td>-3</td>\n",
       "      <td>-3.000000</td>\n",
       "      <td>-3.000000</td>\n",
       "    </tr>\n",
       "    <tr>\n",
       "      <th>3</th>\n",
       "      <td>4</td>\n",
       "      <td>-3</td>\n",
       "      <td>NaN</td>\n",
       "      <td>0</td>\n",
       "      <td>30</td>\n",
       "      <td>NaN</td>\n",
       "      <td>1</td>\n",
       "      <td>NaN</td>\n",
       "      <td>NaN</td>\n",
       "      <td>NaN</td>\n",
       "      <td>...</td>\n",
       "      <td>-3.0</td>\n",
       "      <td>-3.000000</td>\n",
       "      <td>9.512706</td>\n",
       "      <td>10.286578</td>\n",
       "      <td>-3.0</td>\n",
       "      <td>10.677285</td>\n",
       "      <td>-3.000000</td>\n",
       "      <td>-3</td>\n",
       "      <td>8.522331</td>\n",
       "      <td>10.608137</td>\n",
       "    </tr>\n",
       "    <tr>\n",
       "      <th>4</th>\n",
       "      <td>5</td>\n",
       "      <td>-3</td>\n",
       "      <td>NaN</td>\n",
       "      <td>0</td>\n",
       "      <td>25</td>\n",
       "      <td>NaN</td>\n",
       "      <td>1</td>\n",
       "      <td>NaN</td>\n",
       "      <td>NaN</td>\n",
       "      <td>NaN</td>\n",
       "      <td>...</td>\n",
       "      <td>-3.0</td>\n",
       "      <td>-3.000000</td>\n",
       "      <td>11.076016</td>\n",
       "      <td>9.615958</td>\n",
       "      <td>-3.0</td>\n",
       "      <td>9.731979</td>\n",
       "      <td>-3.000000</td>\n",
       "      <td>-3</td>\n",
       "      <td>10.115313</td>\n",
       "      <td>9.646466</td>\n",
       "    </tr>\n",
       "  </tbody>\n",
       "</table>\n",
       "<p>5 rows × 12943 columns</p>\n",
       "</div>"
      ],
      "text/plain": [
       "   challengeID  m1intmon  m1intyr  m1lenhr  m1lenmin  cm1twoc  cm1fint  \\\n",
       "0            1        -3      NaN       -3        40      NaN        0   \n",
       "1            2        -3      NaN        0        40      NaN        1   \n",
       "2            3        -3      NaN        0        35      NaN        1   \n",
       "3            4        -3      NaN        0        30      NaN        1   \n",
       "4            5        -3      NaN        0        25      NaN        1   \n",
       "\n",
       "   cm1tdiff  cm1natsm  m1natwt    ...      m4d9     m4e23       f4d6  \\\n",
       "0       NaN       NaN      NaN    ...      -3.0 -3.000000  -3.000000   \n",
       "1       NaN       NaN      NaN    ...      -3.0  8.473318  -3.000000   \n",
       "2       NaN       NaN      NaN    ...      -3.0 -3.000000   9.097495   \n",
       "3       NaN       NaN      NaN    ...      -3.0 -3.000000   9.512706   \n",
       "4       NaN       NaN      NaN    ...      -3.0 -3.000000  11.076016   \n",
       "\n",
       "        f4d7  f4d9       m5c6     m5d20  m5k10       f5c6       k5f1  \n",
       "0  -3.000000  -3.0  -3.000000 -3.000000     -3  -3.000000  -3.000000  \n",
       "1  -3.000000  -3.0  -3.000000  9.845074     -3  -3.000000   9.723551  \n",
       "2  10.071504  -3.0  -3.000000 -3.000000     -3  -3.000000  -3.000000  \n",
       "3  10.286578  -3.0  10.677285 -3.000000     -3   8.522331  10.608137  \n",
       "4   9.615958  -3.0   9.731979 -3.000000     -3  10.115313   9.646466  \n",
       "\n",
       "[5 rows x 12943 columns]"
      ]
     },
     "execution_count": 4,
     "metadata": {},
     "output_type": "execute_result"
    }
   ],
   "source": [
    "# Preview first 5 lines\n",
    "Dataset.head() "
   ]
  },
  {
   "cell_type": "markdown",
   "metadata": {},
   "source": [
    "# Cleaning Data"
   ]
  },
  {
   "cell_type": "markdown",
   "metadata": {},
   "source": [
    "## 1. Clean Target Data (Key Outcomes)"
   ]
  },
  {
   "cell_type": "code",
   "execution_count": 5,
   "metadata": {},
   "outputs": [
    {
     "name": "stdout",
     "output_type": "stream",
     "text": [
      "Unedited key outcome training data is: (2121, 7)\n",
      "   challengeID  gpa  grit  materialHardship  eviction  layoff  jobTraining\n",
      "0            1  NaN   NaN               NaN       NaN     NaN          NaN\n",
      "1            3  NaN   NaN               NaN       NaN     NaN          NaN\n",
      "2            6  NaN  3.50          0.090909       0.0     0.0          0.0\n",
      "3            7  2.5  3.25          0.000000       0.0     0.0          0.0\n",
      "4            8  NaN   NaN               NaN       NaN     NaN          NaN\n",
      "Unedited key outcome testing data is: (1591, 7)\n",
      "   challengeID   gpa  grit  materialHardship eviction layoff jobTraining\n",
      "0            2   NaN  3.50          0.000000    False  False       False\n",
      "1            4  3.00  3.25          0.000000     True  False       False\n",
      "2           11  3.25  4.00          0.181818    False   True        True\n",
      "3           15  2.75  4.00          0.000000    False  False        True\n",
      "4           17  3.25  3.50          0.363636    False   True       False\n"
     ]
    }
   ],
   "source": [
    "print(\"Unedited key outcome training data is:\", Training.shape)\n",
    "print(Training.head())\n",
    "print(\"Unedited key outcome testing data is:\", Testing.shape)\n",
    "print(Testing.head())"
   ]
  },
  {
   "cell_type": "markdown",
   "metadata": {},
   "source": [
    "### a) Remove NaN from Key Outcome Datasets"
   ]
  },
  {
   "cell_type": "code",
   "execution_count": 6,
   "metadata": {
    "scrolled": true
   },
   "outputs": [
    {
     "name": "stdout",
     "output_type": "stream",
     "text": [
      "Train_Y data summary: \n",
      "    challengeID   gpa  grit  materialHardship  eviction  layoff  jobTraining\n",
      "3            7  2.50  3.25          0.000000       0.0     0.0          0.0\n",
      "5            9  2.25  4.00          0.181818       0.0     0.0          0.0\n",
      "7           13  2.75  4.00          0.181818       0.0     0.0          1.0\n",
      "8           14  3.25  2.75          0.272727       0.0     1.0          0.0\n",
      "9           16  2.00  3.50          0.090909       0.0     0.0          1.0\n",
      "Test_Y data summary: \n",
      "     challengeID   gpa  grit  materialHardship eviction layoff jobTraining\n",
      "1             4  3.00  3.25          0.000000     True  False       False\n",
      "2            11  3.25  4.00          0.181818    False   True        True\n",
      "3            15  2.75  4.00          0.000000    False  False        True\n",
      "4            17  3.25  3.50          0.363636    False   True       False\n",
      "10           29  1.75  2.75          0.090909    False  False        True\n"
     ]
    }
   ],
   "source": [
    "# Remove NaN from training and testing data\n",
    "Train_Y = pd.DataFrame(Training.dropna())\n",
    "Test_Y = pd.DataFrame(Testing.dropna())\n",
    "print(\"Train_Y data summary: \\n\", Train_Y.head())\n",
    "print(\"Test_Y data summary: \\n\", Test_Y.head())"
   ]
  },
  {
   "cell_type": "code",
   "execution_count": 7,
   "metadata": {},
   "outputs": [
    {
     "name": "stdout",
     "output_type": "stream",
     "text": [
      "training set length: 1014\n",
      "testing set length: 803\n"
     ]
    }
   ],
   "source": [
    "# Isolate challengeIDs from target data\n",
    "TRAIN_challengeIDs = Train_Y['challengeID'].tolist()\n",
    "TEST_challengeIDs = Test_Y['challengeID'].tolist()\n",
    "print(\"training set length:\", len(TRAIN_challengeIDs))\n",
    "print(\"testing set length:\", len(TEST_challengeIDs))"
   ]
  },
  {
   "cell_type": "code",
   "execution_count": 8,
   "metadata": {
    "scrolled": true
   },
   "outputs": [
    {
     "name": "stdout",
     "output_type": "stream",
     "text": [
      "Train_Y size: (1014, 6)\n",
      "Test_Y size: (803, 6)\n"
     ]
    }
   ],
   "source": [
    "# Set indices of Y datasets to be the challengeIDs\n",
    "Train_Y = Train_Y.set_index('challengeID')\n",
    "Test_Y = Test_Y.set_index('challengeID')\n",
    "print(\"Train_Y size:\", Train_Y.shape)\n",
    "print(\"Test_Y size:\", Test_Y.shape)"
   ]
  },
  {
   "cell_type": "markdown",
   "metadata": {},
   "source": [
    "###  b) Isolate Data for Each Key Outcome"
   ]
  },
  {
   "cell_type": "markdown",
   "metadata": {},
   "source": [
    "### Continous Variables"
   ]
  },
  {
   "cell_type": "code",
   "execution_count": 9,
   "metadata": {
    "scrolled": false
   },
   "outputs": [],
   "source": [
    "## GPA\n",
    "Train_Y_GPA = Train_Y.iloc[:,0]\n",
    "Test_Y_GPA = Test_Y.iloc[:,0]\n",
    "\n",
    "## Grit\n",
    "Train_Y_Grit = Train_Y.iloc[:,1]\n",
    "Test_Y_Grit = Test_Y.iloc[:,1]\n",
    "\n",
    "## Material Hardship\n",
    "Train_Y_Material_Hardship = Train_Y.iloc[:,2]\n",
    "Test_Y_Material_Hardship = Test_Y.iloc[:,2]"
   ]
  },
  {
   "cell_type": "markdown",
   "metadata": {},
   "source": [
    "### Binary Variables"
   ]
  },
  {
   "cell_type": "code",
   "execution_count": 10,
   "metadata": {},
   "outputs": [
    {
     "name": "stderr",
     "output_type": "stream",
     "text": [
      "/anaconda3/lib/python3.7/site-packages/pandas/core/indexing.py:189: SettingWithCopyWarning: \n",
      "A value is trying to be set on a copy of a slice from a DataFrame\n",
      "\n",
      "See the caveats in the documentation: http://pandas.pydata.org/pandas-docs/stable/indexing.html#indexing-view-versus-copy\n",
      "  self._setitem_with_indexer(indexer, value)\n"
     ]
    }
   ],
   "source": [
    "## Eviction\n",
    "Train_Y_Eviction = Train_Y.iloc[:,3]\n",
    "Test_Y_Eviction = Test_Y.iloc[:,3]\n",
    "# Change True to 1 and False to 0 (booleans), inplace\n",
    "Test_Y_Eviction.loc[Test_Y_Eviction[:] == True] = 1\n",
    "Test_Y_Eviction.loc[Test_Y_Eviction[:] == False] = 0\n",
    "\n",
    "## Layoff\n",
    "Train_Y_Layoff = Train_Y.iloc[:,4]\n",
    "Test_Y_Layoff = Test_Y.iloc[:,4]\n",
    "Test_Y_Layoff.loc[Test_Y_Layoff[:] == True] = 1\n",
    "Test_Y_Layoff.loc[Test_Y_Layoff[:] == False] = 0\n",
    "\n",
    "## Job Training\n",
    "Train_Y_Job_Training = Train_Y.iloc[:,5]\n",
    "Test_Y_Job_Training = Test_Y.iloc[:,5]\n",
    "Test_Y_Job_Training.loc[Test_Y_Job_Training[:] == True] = 1\n",
    "Test_Y_Job_Training.loc[Test_Y_Job_Training[:] == False] = 0"
   ]
  },
  {
   "cell_type": "markdown",
   "metadata": {},
   "source": [
    "## 2. Clean Training Data (Train_X and Test_X)"
   ]
  },
  {
   "cell_type": "code",
   "execution_count": 11,
   "metadata": {},
   "outputs": [
    {
     "data": {
      "text/html": [
       "<div>\n",
       "<style scoped>\n",
       "    .dataframe tbody tr th:only-of-type {\n",
       "        vertical-align: middle;\n",
       "    }\n",
       "\n",
       "    .dataframe tbody tr th {\n",
       "        vertical-align: top;\n",
       "    }\n",
       "\n",
       "    .dataframe thead th {\n",
       "        text-align: right;\n",
       "    }\n",
       "</style>\n",
       "<table border=\"1\" class=\"dataframe\">\n",
       "  <thead>\n",
       "    <tr style=\"text-align: right;\">\n",
       "      <th></th>\n",
       "      <th>challengeID</th>\n",
       "      <th>m1intmon</th>\n",
       "      <th>m1intyr</th>\n",
       "      <th>m1lenhr</th>\n",
       "      <th>m1lenmin</th>\n",
       "      <th>cm1twoc</th>\n",
       "      <th>cm1fint</th>\n",
       "      <th>cm1tdiff</th>\n",
       "      <th>cm1natsm</th>\n",
       "      <th>m1natwt</th>\n",
       "      <th>...</th>\n",
       "      <th>m4d9</th>\n",
       "      <th>m4e23</th>\n",
       "      <th>f4d6</th>\n",
       "      <th>f4d7</th>\n",
       "      <th>f4d9</th>\n",
       "      <th>m5c6</th>\n",
       "      <th>m5d20</th>\n",
       "      <th>m5k10</th>\n",
       "      <th>f5c6</th>\n",
       "      <th>k5f1</th>\n",
       "    </tr>\n",
       "  </thead>\n",
       "  <tbody>\n",
       "    <tr>\n",
       "      <th>0</th>\n",
       "      <td>1</td>\n",
       "      <td>NaN</td>\n",
       "      <td>NaN</td>\n",
       "      <td>NaN</td>\n",
       "      <td>40.0</td>\n",
       "      <td>NaN</td>\n",
       "      <td>0.0</td>\n",
       "      <td>NaN</td>\n",
       "      <td>NaN</td>\n",
       "      <td>NaN</td>\n",
       "      <td>...</td>\n",
       "      <td>NaN</td>\n",
       "      <td>NaN</td>\n",
       "      <td>NaN</td>\n",
       "      <td>NaN</td>\n",
       "      <td>NaN</td>\n",
       "      <td>NaN</td>\n",
       "      <td>NaN</td>\n",
       "      <td>NaN</td>\n",
       "      <td>NaN</td>\n",
       "      <td>NaN</td>\n",
       "    </tr>\n",
       "    <tr>\n",
       "      <th>1</th>\n",
       "      <td>2</td>\n",
       "      <td>NaN</td>\n",
       "      <td>NaN</td>\n",
       "      <td>0.0</td>\n",
       "      <td>40.0</td>\n",
       "      <td>NaN</td>\n",
       "      <td>1.0</td>\n",
       "      <td>NaN</td>\n",
       "      <td>NaN</td>\n",
       "      <td>NaN</td>\n",
       "      <td>...</td>\n",
       "      <td>NaN</td>\n",
       "      <td>8.473318</td>\n",
       "      <td>NaN</td>\n",
       "      <td>NaN</td>\n",
       "      <td>NaN</td>\n",
       "      <td>NaN</td>\n",
       "      <td>9.845074</td>\n",
       "      <td>NaN</td>\n",
       "      <td>NaN</td>\n",
       "      <td>9.723551</td>\n",
       "    </tr>\n",
       "    <tr>\n",
       "      <th>2</th>\n",
       "      <td>3</td>\n",
       "      <td>NaN</td>\n",
       "      <td>NaN</td>\n",
       "      <td>0.0</td>\n",
       "      <td>35.0</td>\n",
       "      <td>NaN</td>\n",
       "      <td>1.0</td>\n",
       "      <td>NaN</td>\n",
       "      <td>NaN</td>\n",
       "      <td>NaN</td>\n",
       "      <td>...</td>\n",
       "      <td>NaN</td>\n",
       "      <td>NaN</td>\n",
       "      <td>9.097495</td>\n",
       "      <td>10.071504</td>\n",
       "      <td>NaN</td>\n",
       "      <td>NaN</td>\n",
       "      <td>NaN</td>\n",
       "      <td>NaN</td>\n",
       "      <td>NaN</td>\n",
       "      <td>NaN</td>\n",
       "    </tr>\n",
       "    <tr>\n",
       "      <th>3</th>\n",
       "      <td>4</td>\n",
       "      <td>NaN</td>\n",
       "      <td>NaN</td>\n",
       "      <td>0.0</td>\n",
       "      <td>30.0</td>\n",
       "      <td>NaN</td>\n",
       "      <td>1.0</td>\n",
       "      <td>NaN</td>\n",
       "      <td>NaN</td>\n",
       "      <td>NaN</td>\n",
       "      <td>...</td>\n",
       "      <td>NaN</td>\n",
       "      <td>NaN</td>\n",
       "      <td>9.512706</td>\n",
       "      <td>10.286578</td>\n",
       "      <td>NaN</td>\n",
       "      <td>10.677285</td>\n",
       "      <td>NaN</td>\n",
       "      <td>NaN</td>\n",
       "      <td>8.522331</td>\n",
       "      <td>10.608137</td>\n",
       "    </tr>\n",
       "    <tr>\n",
       "      <th>4</th>\n",
       "      <td>5</td>\n",
       "      <td>NaN</td>\n",
       "      <td>NaN</td>\n",
       "      <td>0.0</td>\n",
       "      <td>25.0</td>\n",
       "      <td>NaN</td>\n",
       "      <td>1.0</td>\n",
       "      <td>NaN</td>\n",
       "      <td>NaN</td>\n",
       "      <td>NaN</td>\n",
       "      <td>...</td>\n",
       "      <td>NaN</td>\n",
       "      <td>NaN</td>\n",
       "      <td>11.076016</td>\n",
       "      <td>9.615958</td>\n",
       "      <td>NaN</td>\n",
       "      <td>9.731979</td>\n",
       "      <td>NaN</td>\n",
       "      <td>NaN</td>\n",
       "      <td>10.115313</td>\n",
       "      <td>9.646466</td>\n",
       "    </tr>\n",
       "  </tbody>\n",
       "</table>\n",
       "<p>5 rows × 12943 columns</p>\n",
       "</div>"
      ],
      "text/plain": [
       "   challengeID  m1intmon  m1intyr  m1lenhr  m1lenmin  cm1twoc  cm1fint  \\\n",
       "0            1       NaN      NaN      NaN      40.0      NaN      0.0   \n",
       "1            2       NaN      NaN      0.0      40.0      NaN      1.0   \n",
       "2            3       NaN      NaN      0.0      35.0      NaN      1.0   \n",
       "3            4       NaN      NaN      0.0      30.0      NaN      1.0   \n",
       "4            5       NaN      NaN      0.0      25.0      NaN      1.0   \n",
       "\n",
       "   cm1tdiff  cm1natsm  m1natwt    ...      m4d9     m4e23       f4d6  \\\n",
       "0       NaN       NaN      NaN    ...       NaN       NaN        NaN   \n",
       "1       NaN       NaN      NaN    ...       NaN  8.473318        NaN   \n",
       "2       NaN       NaN      NaN    ...       NaN       NaN   9.097495   \n",
       "3       NaN       NaN      NaN    ...       NaN       NaN   9.512706   \n",
       "4       NaN       NaN      NaN    ...       NaN       NaN  11.076016   \n",
       "\n",
       "        f4d7  f4d9       m5c6     m5d20  m5k10       f5c6       k5f1  \n",
       "0        NaN   NaN        NaN       NaN    NaN        NaN        NaN  \n",
       "1        NaN   NaN        NaN  9.845074    NaN        NaN   9.723551  \n",
       "2  10.071504   NaN        NaN       NaN    NaN        NaN        NaN  \n",
       "3  10.286578   NaN  10.677285       NaN    NaN   8.522331  10.608137  \n",
       "4   9.615958   NaN   9.731979       NaN    NaN  10.115313   9.646466  \n",
       "\n",
       "[5 rows x 12943 columns]"
      ]
     },
     "execution_count": 11,
     "metadata": {},
     "output_type": "execute_result"
    }
   ],
   "source": [
    "# Make negative values NaN \n",
    "Dataset_Na[Dataset_Na < 0] = np.nan \n",
    "Dataset_Na.head()"
   ]
  },
  {
   "cell_type": "markdown",
   "metadata": {},
   "source": [
    "### a) Feature Selection"
   ]
  },
  {
   "cell_type": "markdown",
   "metadata": {},
   "source": [
    "Remove features with > 80% of data missing to increase accuracy of immutability"
   ]
  },
  {
   "cell_type": "code",
   "execution_count": 12,
   "metadata": {
    "scrolled": true
   },
   "outputs": [
    {
     "name": "stdout",
     "output_type": "stream",
     "text": [
      "7719 Columns Dropped\n"
     ]
    }
   ],
   "source": [
    "# Set values\n",
    "n = len(Dataset_Na)\n",
    "m = len(Dataset.columns)\n",
    "na_Factor = .8\n",
    "\n",
    "# Pandas object, True if is NaN, else False\n",
    "NabyCol = Dataset_Na.isna().sum(axis=0)\n",
    "\n",
    "# Set array value as 1 if corresponding column exceeds 80% data is NaN\n",
    "Over80_na =[0] * m\n",
    "for i in range(0,len(NabyCol)):\n",
    "    if (NabyCol[i] > n*na_Factor):\n",
    "        Over80_na[i] = 1 \n",
    "\n",
    "# Get indices of columns with more than 80% data NaN\n",
    "lenOfDrops = Over80_na.count(1)\n",
    "Drops = []\n",
    "for i in range(0,len(Over80_na)):\n",
    "    if  (Over80_na[i] ==1):\n",
    "        Drops.append(i)\n",
    "\n",
    "# Drop columns indexed by values in Drops[]\n",
    "Dataset_Na.drop(Dataset_Na.columns[Drops],axis=1,inplace=True)\n",
    "print(len(Dataset.columns) - len(Dataset_Na.columns), \"Columns Dropped\")"
   ]
  },
  {
   "cell_type": "code",
   "execution_count": 13,
   "metadata": {},
   "outputs": [
    {
     "name": "stdout",
     "output_type": "stream",
     "text": [
      "Feature data size is: (4242, 5224)\n",
      "   challengeID  m1lenhr  m1lenmin  cm1fint  cm1citsm    m1citywt  innatsm  \\\n",
      "0            1      NaN      40.0      0.0         1  202.485367        1   \n",
      "1            2      0.0      40.0      1.0         1   45.608219        1   \n",
      "2            3      0.0      35.0      1.0         1   39.060299        1   \n",
      "3            4      0.0      30.0      1.0         1   22.304855        1   \n",
      "4            5      0.0      25.0      1.0         1   35.518272        1   \n",
      "\n",
      "   incitysm  m1a3  m1a4    ...           f3d7       m4d6       m4d7     m4e23  \\\n",
      "0         1   1.0   1.0    ...            NaN        NaN        NaN       NaN   \n",
      "1         1   2.0   2.0    ...            NaN        NaN        NaN  8.473318   \n",
      "2         1   1.0   1.0    ...       9.856885        NaN        NaN       NaN   \n",
      "3         1   1.0   2.0    ...       9.735952   9.657890  10.041802       NaN   \n",
      "4         1   1.0   2.0    ...      10.174545  10.981139   9.458314       NaN   \n",
      "\n",
      "        f4d6       f4d7       m5c6     m5d20       f5c6       k5f1  \n",
      "0        NaN        NaN        NaN       NaN        NaN        NaN  \n",
      "1        NaN        NaN        NaN  9.845074        NaN   9.723551  \n",
      "2   9.097495  10.071504        NaN       NaN        NaN        NaN  \n",
      "3   9.512706  10.286578  10.677285       NaN   8.522331  10.608137  \n",
      "4  11.076016   9.615958   9.731979       NaN  10.115313   9.646466  \n",
      "\n",
      "[5 rows x 5224 columns]\n"
     ]
    }
   ],
   "source": [
    "print(\"Feature data size is:\", Dataset_Na.shape)\n",
    "print(Dataset_Na.head())"
   ]
  },
  {
   "cell_type": "markdown",
   "metadata": {},
   "source": [
    "### b) Fill in missing data"
   ]
  },
  {
   "cell_type": "code",
   "execution_count": 14,
   "metadata": {},
   "outputs": [],
   "source": [
    "def fillMissing(inputdf, outputcsv):\n",
    "    # read input csv - takes time\n",
    "    df = inputdf\n",
    "    # Fix date bug\n",
    "    #df.cf4fint = ((pd.to_datetime(df.cf4fint) - pd.to_datetime('1960-01-01')) / np.timedelta64(1, 'D')).astype(int)\n",
    "    \n",
    "    # replace NA's with mode\n",
    "    df = df.fillna(df.mode().iloc[0])\n",
    "    # if still NA, replace with 1\n",
    "    df = df.fillna(value=1)\n",
    "    # replace negative values with 1 \n",
    "    num = df._get_numeric_data()\n",
    "    num[num < 0] = 1\n",
    "    df = df.astype(float)\n",
    "    # write filled outputcsv\n",
    "    df.to_csv(outputcsv, index=False)\n",
    "\n",
    "fillMissing(Dataset_Na, 'output.csv')\n",
    "Data_immuted = pd.read_csv('output.csv', low_memory=False)"
   ]
  },
  {
   "cell_type": "code",
   "execution_count": 15,
   "metadata": {
    "scrolled": false
   },
   "outputs": [
    {
     "name": "stdout",
     "output_type": "stream",
     "text": [
      "Cleaned up feature data size is: (4242, 5224)\n",
      "   challengeID  m1lenhr  m1lenmin  cm1fint  cm1citsm    m1citywt  innatsm  \\\n",
      "0          1.0      0.0      40.0      0.0       1.0  202.485367      1.0   \n",
      "1          2.0      0.0      40.0      1.0       1.0   45.608219      1.0   \n",
      "2          3.0      0.0      35.0      1.0       1.0   39.060299      1.0   \n",
      "3          4.0      0.0      30.0      1.0       1.0   22.304855      1.0   \n",
      "4          5.0      0.0      25.0      1.0       1.0   35.518272      1.0   \n",
      "\n",
      "   incitysm  m1a3  m1a4    ...           f3d7       m4d6       m4d7  \\\n",
      "0       1.0   1.0   1.0    ...      10.926755   7.632805   9.040641   \n",
      "1       1.0   2.0   2.0    ...      10.926755   7.632805   9.040641   \n",
      "2       1.0   1.0   1.0    ...       9.856885   7.632805   9.040641   \n",
      "3       1.0   1.0   2.0    ...       9.735952   9.657890  10.041802   \n",
      "4       1.0   1.0   2.0    ...      10.174545  10.981139   9.458314   \n",
      "\n",
      "       m4e23       f4d6       f4d7       m5c6      m5d20       f5c6       k5f1  \n",
      "0  10.558813  11.689877   9.080795  10.991854  10.564085  10.972726   9.566678  \n",
      "1   8.473318  11.689877   9.080795  10.991854   9.845074  10.972726   9.723551  \n",
      "2  10.558813   9.097495  10.071504  10.991854  10.564085  10.972726   9.566678  \n",
      "3  10.558813   9.512706  10.286578  10.677285  10.564085   8.522331  10.608137  \n",
      "4  10.558813  11.076016   9.615958   9.731979  10.564085  10.115313   9.646466  \n",
      "\n",
      "[5 rows x 5224 columns]\n"
     ]
    }
   ],
   "source": [
    "print(\"Cleaned up feature data size is:\", Data_immuted.shape)\n",
    "print(Data_immuted.head())"
   ]
  },
  {
   "cell_type": "markdown",
   "metadata": {},
   "source": [
    "### c) Isolate Desired Rows"
   ]
  },
  {
   "cell_type": "code",
   "execution_count": 16,
   "metadata": {
    "scrolled": true
   },
   "outputs": [],
   "source": [
    "# Get cleaned training/testing data based on \n",
    "Train_X = Data_immuted.loc[Data_immuted['challengeID'].isin(TRAIN_challengeIDs)]\n",
    "Train_X = Train_X.set_index('challengeID')\n",
    "\n",
    "Test_X = Data_immuted.loc[Data_immuted['challengeID'].isin(TEST_challengeIDs)]\n",
    "Test_X = Test_X.set_index('challengeID')"
   ]
  },
  {
   "cell_type": "markdown",
   "metadata": {},
   "source": [
    "Ensure that the datasets are of correct size and length:"
   ]
  },
  {
   "cell_type": "code",
   "execution_count": 17,
   "metadata": {
    "scrolled": true
   },
   "outputs": [
    {
     "name": "stdout",
     "output_type": "stream",
     "text": [
      "(1014, 5223)\n",
      "(1014,)\n",
      "(803, 5223)\n",
      "(803,)\n"
     ]
    }
   ],
   "source": [
    "print(Train_X.shape)\n",
    "print(Train_Y_Eviction.shape)\n",
    "print(Test_X.shape)\n",
    "print(Test_Y_Eviction.shape)"
   ]
  },
  {
   "cell_type": "markdown",
   "metadata": {},
   "source": [
    "# Classifying Models"
   ]
  },
  {
   "cell_type": "code",
   "execution_count": 29,
   "metadata": {},
   "outputs": [],
   "source": [
    "# Import classifiers \n",
    "from sklearn.neighbors import KNeighborsClassifier\n",
    "from sklearn import linear_model\n",
    "from sklearn.metrics import classification_report\n",
    "from sklearn.metrics import confusion_matrix\n",
    "from sklearn.metrics import accuracy_score\n",
    "from sklearn.metrics import precision_score\n",
    "from sklearn.metrics import recall_score\n",
    "from sklearn.metrics import f1_score\n",
    "import time"
   ]
  },
  {
   "cell_type": "code",
   "execution_count": 31,
   "metadata": {
    "scrolled": false
   },
   "outputs": [
    {
     "name": "stdout",
     "output_type": "stream",
     "text": [
      "Logistic Regression:\n",
      "Accuracy Score =  0.9115815691158157\n",
      "F1 Score =  0.0\n",
      "Training Time: 0.821659 seconds \n",
      "Prediction Time: 0.006950 seconds \n",
      "\n"
     ]
    },
    {
     "name": "stderr",
     "output_type": "stream",
     "text": [
      "/anaconda3/lib/python3.7/site-packages/sklearn/linear_model/logistic.py:758: ConvergenceWarning: lbfgs failed to converge. Increase the number of iterations.\n",
      "  \"of iterations.\", ConvergenceWarning)\n"
     ]
    }
   ],
   "source": [
    "# Logistic Regression Classifier \n",
    "print(\"Logistic Regression:\")\n",
    "LR_norm = linear_model.LogisticRegression(solver='lbfgs')\n",
    "t0 = time.time()\n",
    "LR_norm.fit(Train_X, Train_Y_Eviction)\n",
    "t1 = time.time()\n",
    "predictions_LR_norm = LR_norm.predict(Test_X)\n",
    "t2 = time.time()\n",
    "print(\"Accuracy Score = \", accuracy_score(Test_Y_Eviction, predictions_LR_norm))\n",
    "print(\"F1 Score = \", f1_score(Test_Y_Eviction, predictions_LR_norm))\n",
    "print(\"Training Time: %f seconds \\nPrediction Time: %f seconds \\n\" % (t1 - t0, t2 - t1))"
   ]
  },
  {
   "cell_type": "code",
   "execution_count": 32,
   "metadata": {
    "scrolled": false
   },
   "outputs": [
    {
     "name": "stdout",
     "output_type": "stream",
     "text": [
      "K-Nearest Neighbors\n",
      "Accuracy Score =  0.9364881693648817\n",
      "F1 Score =  0.0\n",
      "Training Time: 0.169462 seconds \n",
      "Prediction Time: 6.036790 seconds \n",
      "\n"
     ]
    },
    {
     "name": "stderr",
     "output_type": "stream",
     "text": [
      "/anaconda3/lib/python3.7/site-packages/sklearn/metrics/classification.py:1143: UndefinedMetricWarning: F-score is ill-defined and being set to 0.0 due to no predicted samples.\n",
      "  'precision', 'predicted', average, warn_for)\n"
     ]
    }
   ],
   "source": [
    "# KNN Classifier \n",
    "print(\"K-Nearest Neighbors: \")\n",
    "neighbor_count = 10\n",
    "knn = KNeighborsClassifier(neighbor_count)\n",
    "t0 = time.time()\n",
    "knn.fit(Train_X, Train_Y_Eviction)\n",
    "t1 = time.time()\n",
    "predictions_KNN = knn.predict(Test_X)\n",
    "t2 = time.time()\n",
    "print(\"Accuracy Score = \", accuracy_score(Test_Y_Eviction, predictions_KNN))\n",
    "print(\"F1 Score = \", f1_score(Test_Y_Eviction, predictions_KNN))\n",
    "print(\"Training Time: %f seconds \\nPrediction Time: %f seconds \\n\" % (t1 - t0, t2 - t1))"
   ]
  },
  {
   "cell_type": "code",
   "execution_count": null,
   "metadata": {},
   "outputs": [],
   "source": [
    "print(Train_X.shape)\n",
    "print(Train_Y_Eviction.shape)"
   ]
  },
  {
   "cell_type": "code",
   "execution_count": null,
   "metadata": {},
   "outputs": [],
   "source": []
  }
 ],
 "metadata": {
  "kernelspec": {
   "display_name": "Python 3",
   "language": "python",
   "name": "python3"
  },
  "language_info": {
   "codemirror_mode": {
    "name": "ipython",
    "version": 3
   },
   "file_extension": ".py",
   "mimetype": "text/x-python",
   "name": "python",
   "nbconvert_exporter": "python",
   "pygments_lexer": "ipython3",
   "version": "3.7.1"
  }
 },
 "nbformat": 4,
 "nbformat_minor": 2
}
