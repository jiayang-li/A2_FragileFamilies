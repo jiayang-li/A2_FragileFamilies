{
 "cells": [
  {
   "cell_type": "code",
   "execution_count": 1,
   "metadata": {},
   "outputs": [],
   "source": [
    "# author: Matt Myers, 3/6/2019\n",
    "# regularization examples adapted from https://www.analyticsvidhya.com/blog/2016/01/complete-tutorial-ridge-lasso-regression-python/\n",
    "import numpy as np\n",
    "import pandas as pd\n",
    "import random\n",
    "import matplotlib.pyplot as plt\n",
    "from matplotlib import rcParams\n",
    "import warnings\n",
    "rcParams['figure.figsize'] = 12, 10"
   ]
  },
  {
   "cell_type": "markdown",
   "metadata": {},
   "source": [
    "## x = angle in radians, y = sin(x) + noise\n"
   ]
  },
  {
   "cell_type": "code",
   "execution_count": 2,
   "metadata": {
    "scrolled": false
   },
   "outputs": [
    {
     "data": {
      "text/plain": [
       "[<matplotlib.lines.Line2D at 0x11fefd278>]"
      ]
     },
     "execution_count": 2,
     "metadata": {},
     "output_type": "execute_result"
    },
    {
     "data": {
      "image/png": "[encoded data removed]",
      "text/plain": [
       "<Figure size 576x432 with 1 Axes>"
      ]
     },
     "metadata": {
      "needs_background": "light"
     },
     "output_type": "display_data"
    }
   ],
   "source": [
    "x = np.array([i*np.pi/180 for i in range(40,320,4)])\n",
    "np.random.seed(0)  #Setting seed for reproducability\n",
    "y = np.sin(x) + np.random.normal(0,0.3,len(x))\n",
    "data = pd.DataFrame(np.column_stack([x,y]),columns=['x','y'])\n",
    "\n",
    "plt.figure(figsize=(8,6))\n",
    "plt.plot(data['x'],data['y'],'.')"
   ]
  },
  {
   "cell_type": "markdown",
   "metadata": {},
   "source": [
    "## Add nonlinear predictors (powers of x)"
   ]
  },
  {
   "cell_type": "code",
   "execution_count": 3,
   "metadata": {},
   "outputs": [
    {
     "data": {
      "text/html": [
       "<div>\n",
       "<style scoped>\n",
       "    .dataframe tbody tr th:only-of-type {\n",
       "        vertical-align: middle;\n",
       "    }\n",
       "\n",
       "    .dataframe tbody tr th {\n",
       "        vertical-align: top;\n",
       "    }\n",
       "\n",
       "    .dataframe thead th {\n",
       "        text-align: right;\n",
       "    }\n",
       "</style>\n",
       "<table border=\"1\" class=\"dataframe\">\n",
       "  <thead>\n",
       "    <tr style=\"text-align: right;\">\n",
       "      <th></th>\n",
       "      <th>x</th>\n",
       "      <th>y</th>\n",
       "      <th>x^2</th>\n",
       "      <th>x^3</th>\n",
       "      <th>x^4</th>\n",
       "      <th>x^5</th>\n",
       "      <th>x^6</th>\n",
       "      <th>x^7</th>\n",
       "      <th>x^8</th>\n",
       "      <th>x^9</th>\n",
       "      <th>x^10</th>\n",
       "      <th>x^11</th>\n",
       "      <th>x^12</th>\n",
       "      <th>x^13</th>\n",
       "      <th>x^14</th>\n",
       "      <th>x^15</th>\n",
       "    </tr>\n",
       "  </thead>\n",
       "  <tbody>\n",
       "    <tr>\n",
       "      <th>0</th>\n",
       "      <td>0.698132</td>\n",
       "      <td>1.172003</td>\n",
       "      <td>0.487388</td>\n",
       "      <td>0.340261</td>\n",
       "      <td>0.237547</td>\n",
       "      <td>0.165839</td>\n",
       "      <td>0.115777</td>\n",
       "      <td>0.080828</td>\n",
       "      <td>0.056429</td>\n",
       "      <td>0.039395</td>\n",
       "      <td>0.027503</td>\n",
       "      <td>0.019200</td>\n",
       "      <td>0.013404</td>\n",
       "      <td>0.009358</td>\n",
       "      <td>0.006533</td>\n",
       "      <td>0.004561</td>\n",
       "    </tr>\n",
       "    <tr>\n",
       "      <th>1</th>\n",
       "      <td>0.767945</td>\n",
       "      <td>0.814706</td>\n",
       "      <td>0.589739</td>\n",
       "      <td>0.452887</td>\n",
       "      <td>0.347792</td>\n",
       "      <td>0.267085</td>\n",
       "      <td>0.205107</td>\n",
       "      <td>0.157511</td>\n",
       "      <td>0.120960</td>\n",
       "      <td>0.092890</td>\n",
       "      <td>0.071335</td>\n",
       "      <td>0.054781</td>\n",
       "      <td>0.042069</td>\n",
       "      <td>0.032307</td>\n",
       "      <td>0.024810</td>\n",
       "      <td>0.019052</td>\n",
       "    </tr>\n",
       "    <tr>\n",
       "      <th>2</th>\n",
       "      <td>0.837758</td>\n",
       "      <td>1.036766</td>\n",
       "      <td>0.701839</td>\n",
       "      <td>0.587971</td>\n",
       "      <td>0.492577</td>\n",
       "      <td>0.412661</td>\n",
       "      <td>0.345710</td>\n",
       "      <td>0.289621</td>\n",
       "      <td>0.242632</td>\n",
       "      <td>0.203267</td>\n",
       "      <td>0.170289</td>\n",
       "      <td>0.142661</td>\n",
       "      <td>0.119515</td>\n",
       "      <td>0.100125</td>\n",
       "      <td>0.083880</td>\n",
       "      <td>0.070271</td>\n",
       "    </tr>\n",
       "    <tr>\n",
       "      <th>3</th>\n",
       "      <td>0.907571</td>\n",
       "      <td>1.460279</td>\n",
       "      <td>0.823686</td>\n",
       "      <td>0.747553</td>\n",
       "      <td>0.678458</td>\n",
       "      <td>0.615749</td>\n",
       "      <td>0.558836</td>\n",
       "      <td>0.507183</td>\n",
       "      <td>0.460305</td>\n",
       "      <td>0.417760</td>\n",
       "      <td>0.379147</td>\n",
       "      <td>0.344102</td>\n",
       "      <td>0.312298</td>\n",
       "      <td>0.283432</td>\n",
       "      <td>0.257235</td>\n",
       "      <td>0.233459</td>\n",
       "    </tr>\n",
       "    <tr>\n",
       "      <th>4</th>\n",
       "      <td>0.977384</td>\n",
       "      <td>1.389305</td>\n",
       "      <td>0.955280</td>\n",
       "      <td>0.933676</td>\n",
       "      <td>0.912560</td>\n",
       "      <td>0.891922</td>\n",
       "      <td>0.871751</td>\n",
       "      <td>0.852036</td>\n",
       "      <td>0.832766</td>\n",
       "      <td>0.813933</td>\n",
       "      <td>0.795525</td>\n",
       "      <td>0.777534</td>\n",
       "      <td>0.759950</td>\n",
       "      <td>0.742763</td>\n",
       "      <td>0.725965</td>\n",
       "      <td>0.709547</td>\n",
       "    </tr>\n",
       "  </tbody>\n",
       "</table>\n",
       "</div>"
      ],
      "text/plain": [
       "          x         y       x^2       x^3       x^4       x^5       x^6  \\\n",
       "0  0.698132  1.172003  0.487388  0.340261  0.237547  0.165839  0.115777   \n",
       "1  0.767945  0.814706  0.589739  0.452887  0.347792  0.267085  0.205107   \n",
       "2  0.837758  1.036766  0.701839  0.587971  0.492577  0.412661  0.345710   \n",
       "3  0.907571  1.460279  0.823686  0.747553  0.678458  0.615749  0.558836   \n",
       "4  0.977384  1.389305  0.955280  0.933676  0.912560  0.891922  0.871751   \n",
       "\n",
       "        x^7       x^8       x^9      x^10      x^11      x^12      x^13  \\\n",
       "0  0.080828  0.056429  0.039395  0.027503  0.019200  0.013404  0.009358   \n",
       "1  0.157511  0.120960  0.092890  0.071335  0.054781  0.042069  0.032307   \n",
       "2  0.289621  0.242632  0.203267  0.170289  0.142661  0.119515  0.100125   \n",
       "3  0.507183  0.460305  0.417760  0.379147  0.344102  0.312298  0.283432   \n",
       "4  0.852036  0.832766  0.813933  0.795525  0.777534  0.759950  0.742763   \n",
       "\n",
       "       x^14      x^15  \n",
       "0  0.006533  0.004561  \n",
       "1  0.024810  0.019052  \n",
       "2  0.083880  0.070271  \n",
       "3  0.257235  0.233459  \n",
       "4  0.725965  0.709547  "
      ]
     },
     "execution_count": 3,
     "metadata": {},
     "output_type": "execute_result"
    }
   ],
   "source": [
    "for i in range(2,16):  #power of 1 is already there\n",
    "    colname = 'x^%d'%i      #new var will be x_power\n",
    "    data[colname] = data['x']**i\n",
    "data.head()"
   ]
  },
  {
   "cell_type": "markdown",
   "metadata": {},
   "source": [
    "## Fit linear regression"
   ]
  },
  {
   "cell_type": "code",
   "execution_count": 4,
   "metadata": {},
   "outputs": [],
   "source": [
    "from sklearn.linear_model import LinearRegression\n",
    "def linear_regression(data, power, models_to_plot):\n",
    "    #initialize predictors:\n",
    "    predictors=['x']\n",
    "    if power>=2:\n",
    "        predictors.extend(['x^%d'%i for i in range(2,power+1)])\n",
    "    \n",
    "    #Fit the model\n",
    "    linreg = LinearRegression(normalize=True)\n",
    "    linreg.fit(data[predictors],data['y'])\n",
    "    y_pred = linreg.predict(data[predictors])\n",
    "    \n",
    "    #Check if a plot is to be made for the entered power\n",
    "    if power in models_to_plot:\n",
    "        plt.subplot(models_to_plot[power])\n",
    "        plt.tight_layout()\n",
    "        plt.plot(data['x'],y_pred)\n",
    "        plt.plot(data['x'],data['y'],'.')\n",
    "        plt.title('Plot for power: %d'%power)\n",
    "    \n",
    "    #Return the result in pre-defined format\n",
    "    rss = sum((y_pred-data['y'])**2)\n",
    "    ret = [rss]\n",
    "    ret.extend([linreg.intercept_])\n",
    "    ret.extend(linreg.coef_)\n",
    "    return ret"
   ]
  },
  {
   "cell_type": "code",
   "execution_count": 5,
   "metadata": {},
   "outputs": [
    {
     "name": "stderr",
     "output_type": "stream",
     "text": [
      "/anaconda3/lib/python3.6/site-packages/sklearn/linear_model/base.py:485: RuntimeWarning: internal gelsd driver lwork query error, required iwork dimension not returned. This is likely the result of LAPACK bug 0038, fixed in LAPACK 3.2.2 (released July 21, 2010). Falling back to 'gelss' driver.\n",
      "  linalg.lstsq(X, y)\n"
     ]
    },
    {
     "data": {
      "image/png": "[encoded data removed]",
      "text/plain": [
       "<Figure size 864x576 with 6 Axes>"
      ]
     },
     "metadata": {
      "needs_background": "light"
     },
     "output_type": "display_data"
    }
   ],
   "source": [
    "#Initialize a dataframe to store the results:\n",
    "col = ['rss','intercept'] + ['coef_x^%d'%i for i in range(1,16)]\n",
    "ind = ['model_pow_%d'%i for i in range(1,16)]\n",
    "coef_matrix_simple = pd.DataFrame(index=ind, columns=col)\n",
    "\n",
    "#Define the powers for which a plot is required:\n",
    "models_to_plot = {1:231,3:232,6:233,9:234,12:235,15:236}\n",
    "\n",
    "plt.figure(figsize=(12,8))\n",
    "\n",
    "#Iterate through all powers and assimilate results\n",
    "for i in range(1,16):\n",
    "    coef_matrix_simple.iloc[i-1,0:i+2] = linear_regression(data, power=i, models_to_plot=models_to_plot)"
   ]
  },
  {
   "cell_type": "code",
   "execution_count": 6,
   "metadata": {},
   "outputs": [
    {
     "data": {
      "text/html": [
       "<div>\n",
       "<style scoped>\n",
       "    .dataframe tbody tr th:only-of-type {\n",
       "        vertical-align: middle;\n",
       "    }\n",
       "\n",
       "    .dataframe tbody tr th {\n",
       "        vertical-align: top;\n",
       "    }\n",
       "\n",
       "    .dataframe thead th {\n",
       "        text-align: right;\n",
       "    }\n",
       "</style>\n",
       "<table border=\"1\" class=\"dataframe\">\n",
       "  <thead>\n",
       "    <tr style=\"text-align: right;\">\n",
       "      <th></th>\n",
       "      <th>rss</th>\n",
       "      <th>intercept</th>\n",
       "      <th>coef_x^1</th>\n",
       "      <th>coef_x^2</th>\n",
       "      <th>coef_x^3</th>\n",
       "      <th>coef_x^4</th>\n",
       "      <th>coef_x^5</th>\n",
       "      <th>coef_x^6</th>\n",
       "      <th>coef_x^7</th>\n",
       "      <th>coef_x^8</th>\n",
       "      <th>coef_x^9</th>\n",
       "      <th>coef_x^10</th>\n",
       "      <th>coef_x^11</th>\n",
       "      <th>coef_x^12</th>\n",
       "      <th>coef_x^13</th>\n",
       "      <th>coef_x^14</th>\n",
       "      <th>coef_x^15</th>\n",
       "    </tr>\n",
       "  </thead>\n",
       "  <tbody>\n",
       "    <tr>\n",
       "      <th>model_pow_1</th>\n",
       "      <td>9.9</td>\n",
       "      <td>1.9</td>\n",
       "      <td>-0.61</td>\n",
       "      <td>NaN</td>\n",
       "      <td>NaN</td>\n",
       "      <td>NaN</td>\n",
       "      <td>NaN</td>\n",
       "      <td>NaN</td>\n",
       "      <td>NaN</td>\n",
       "      <td>NaN</td>\n",
       "      <td>NaN</td>\n",
       "      <td>NaN</td>\n",
       "      <td>NaN</td>\n",
       "      <td>NaN</td>\n",
       "      <td>NaN</td>\n",
       "      <td>NaN</td>\n",
       "      <td>NaN</td>\n",
       "    </tr>\n",
       "    <tr>\n",
       "      <th>model_pow_2</th>\n",
       "      <td>9.9</td>\n",
       "      <td>2</td>\n",
       "      <td>-0.68</td>\n",
       "      <td>0.012</td>\n",
       "      <td>NaN</td>\n",
       "      <td>NaN</td>\n",
       "      <td>NaN</td>\n",
       "      <td>NaN</td>\n",
       "      <td>NaN</td>\n",
       "      <td>NaN</td>\n",
       "      <td>NaN</td>\n",
       "      <td>NaN</td>\n",
       "      <td>NaN</td>\n",
       "      <td>NaN</td>\n",
       "      <td>NaN</td>\n",
       "      <td>NaN</td>\n",
       "      <td>NaN</td>\n",
       "    </tr>\n",
       "    <tr>\n",
       "      <th>model_pow_3</th>\n",
       "      <td>5.7</td>\n",
       "      <td>-0.12</td>\n",
       "      <td>2.1</td>\n",
       "      <td>-1</td>\n",
       "      <td>0.11</td>\n",
       "      <td>NaN</td>\n",
       "      <td>NaN</td>\n",
       "      <td>NaN</td>\n",
       "      <td>NaN</td>\n",
       "      <td>NaN</td>\n",
       "      <td>NaN</td>\n",
       "      <td>NaN</td>\n",
       "      <td>NaN</td>\n",
       "      <td>NaN</td>\n",
       "      <td>NaN</td>\n",
       "      <td>NaN</td>\n",
       "      <td>NaN</td>\n",
       "    </tr>\n",
       "    <tr>\n",
       "      <th>model_pow_4</th>\n",
       "      <td>5.7</td>\n",
       "      <td>0.34</td>\n",
       "      <td>1.3</td>\n",
       "      <td>-0.5</td>\n",
       "      <td>-0.012</td>\n",
       "      <td>0.0099</td>\n",
       "      <td>NaN</td>\n",
       "      <td>NaN</td>\n",
       "      <td>NaN</td>\n",
       "      <td>NaN</td>\n",
       "      <td>NaN</td>\n",
       "      <td>NaN</td>\n",
       "      <td>NaN</td>\n",
       "      <td>NaN</td>\n",
       "      <td>NaN</td>\n",
       "      <td>NaN</td>\n",
       "      <td>NaN</td>\n",
       "    </tr>\n",
       "    <tr>\n",
       "      <th>model_pow_5</th>\n",
       "      <td>5.6</td>\n",
       "      <td>1.6</td>\n",
       "      <td>-1.9</td>\n",
       "      <td>2.1</td>\n",
       "      <td>-1</td>\n",
       "      <td>0.18</td>\n",
       "      <td>-0.011</td>\n",
       "      <td>NaN</td>\n",
       "      <td>NaN</td>\n",
       "      <td>NaN</td>\n",
       "      <td>NaN</td>\n",
       "      <td>NaN</td>\n",
       "      <td>NaN</td>\n",
       "      <td>NaN</td>\n",
       "      <td>NaN</td>\n",
       "      <td>NaN</td>\n",
       "      <td>NaN</td>\n",
       "    </tr>\n",
       "    <tr>\n",
       "      <th>model_pow_6</th>\n",
       "      <td>5.5</td>\n",
       "      <td>2.5</td>\n",
       "      <td>-4.5</td>\n",
       "      <td>5</td>\n",
       "      <td>-2.5</td>\n",
       "      <td>0.6</td>\n",
       "      <td>-0.068</td>\n",
       "      <td>0.0031</td>\n",
       "      <td>NaN</td>\n",
       "      <td>NaN</td>\n",
       "      <td>NaN</td>\n",
       "      <td>NaN</td>\n",
       "      <td>NaN</td>\n",
       "      <td>NaN</td>\n",
       "      <td>NaN</td>\n",
       "      <td>NaN</td>\n",
       "      <td>NaN</td>\n",
       "    </tr>\n",
       "    <tr>\n",
       "      <th>model_pow_7</th>\n",
       "      <td>5.5</td>\n",
       "      <td>-1.8</td>\n",
       "      <td>11</td>\n",
       "      <td>-15</td>\n",
       "      <td>11</td>\n",
       "      <td>-4.7</td>\n",
       "      <td>1.1</td>\n",
       "      <td>-0.13</td>\n",
       "      <td>0.0059</td>\n",
       "      <td>NaN</td>\n",
       "      <td>NaN</td>\n",
       "      <td>NaN</td>\n",
       "      <td>NaN</td>\n",
       "      <td>NaN</td>\n",
       "      <td>NaN</td>\n",
       "      <td>NaN</td>\n",
       "      <td>NaN</td>\n",
       "    </tr>\n",
       "    <tr>\n",
       "      <th>model_pow_8</th>\n",
       "      <td>5.4</td>\n",
       "      <td>7.2</td>\n",
       "      <td>-25</td>\n",
       "      <td>42</td>\n",
       "      <td>-38</td>\n",
       "      <td>19</td>\n",
       "      <td>-6.1</td>\n",
       "      <td>1.1</td>\n",
       "      <td>-0.12</td>\n",
       "      <td>0.0049</td>\n",
       "      <td>NaN</td>\n",
       "      <td>NaN</td>\n",
       "      <td>NaN</td>\n",
       "      <td>NaN</td>\n",
       "      <td>NaN</td>\n",
       "      <td>NaN</td>\n",
       "      <td>NaN</td>\n",
       "    </tr>\n",
       "    <tr>\n",
       "      <th>model_pow_9</th>\n",
       "      <td>5.4</td>\n",
       "      <td>12</td>\n",
       "      <td>-48</td>\n",
       "      <td>84</td>\n",
       "      <td>-79</td>\n",
       "      <td>45</td>\n",
       "      <td>-16</td>\n",
       "      <td>3.5</td>\n",
       "      <td>-0.47</td>\n",
       "      <td>0.035</td>\n",
       "      <td>-0.0011</td>\n",
       "      <td>NaN</td>\n",
       "      <td>NaN</td>\n",
       "      <td>NaN</td>\n",
       "      <td>NaN</td>\n",
       "      <td>NaN</td>\n",
       "      <td>NaN</td>\n",
       "    </tr>\n",
       "    <tr>\n",
       "      <th>model_pow_10</th>\n",
       "      <td>5.4</td>\n",
       "      <td>-23</td>\n",
       "      <td>1.3e+02</td>\n",
       "      <td>-2.9e+02</td>\n",
       "      <td>3.6e+02</td>\n",
       "      <td>-2.8e+02</td>\n",
       "      <td>1.4e+02</td>\n",
       "      <td>-44</td>\n",
       "      <td>9.3</td>\n",
       "      <td>-1.2</td>\n",
       "      <td>0.093</td>\n",
       "      <td>-0.003</td>\n",
       "      <td>NaN</td>\n",
       "      <td>NaN</td>\n",
       "      <td>NaN</td>\n",
       "      <td>NaN</td>\n",
       "      <td>NaN</td>\n",
       "    </tr>\n",
       "    <tr>\n",
       "      <th>model_pow_11</th>\n",
       "      <td>5.4</td>\n",
       "      <td>-73</td>\n",
       "      <td>4.1e+02</td>\n",
       "      <td>-9.4e+02</td>\n",
       "      <td>1.2e+03</td>\n",
       "      <td>-1e+03</td>\n",
       "      <td>5.6e+02</td>\n",
       "      <td>-2.1e+02</td>\n",
       "      <td>52</td>\n",
       "      <td>-8.8</td>\n",
       "      <td>0.95</td>\n",
       "      <td>-0.06</td>\n",
       "      <td>0.0017</td>\n",
       "      <td>NaN</td>\n",
       "      <td>NaN</td>\n",
       "      <td>NaN</td>\n",
       "      <td>NaN</td>\n",
       "    </tr>\n",
       "    <tr>\n",
       "      <th>model_pow_12</th>\n",
       "      <td>5.3</td>\n",
       "      <td>-1.9e+02</td>\n",
       "      <td>1.1e+03</td>\n",
       "      <td>-2.8e+03</td>\n",
       "      <td>4.1e+03</td>\n",
       "      <td>-3.7e+03</td>\n",
       "      <td>2.4e+03</td>\n",
       "      <td>-1e+03</td>\n",
       "      <td>3.2e+02</td>\n",
       "      <td>-69</td>\n",
       "      <td>10</td>\n",
       "      <td>-1</td>\n",
       "      <td>0.06</td>\n",
       "      <td>-0.0016</td>\n",
       "      <td>NaN</td>\n",
       "      <td>NaN</td>\n",
       "      <td>NaN</td>\n",
       "    </tr>\n",
       "    <tr>\n",
       "      <th>model_pow_13</th>\n",
       "      <td>5.3</td>\n",
       "      <td>4</td>\n",
       "      <td>-1.6e+02</td>\n",
       "      <td>8.6e+02</td>\n",
       "      <td>-2.1e+03</td>\n",
       "      <td>3e+03</td>\n",
       "      <td>-2.7e+03</td>\n",
       "      <td>1.7e+03</td>\n",
       "      <td>-7.2e+02</td>\n",
       "      <td>2.2e+02</td>\n",
       "      <td>-48</td>\n",
       "      <td>7.1</td>\n",
       "      <td>-0.69</td>\n",
       "      <td>0.04</td>\n",
       "      <td>-0.001</td>\n",
       "      <td>NaN</td>\n",
       "      <td>NaN</td>\n",
       "    </tr>\n",
       "    <tr>\n",
       "      <th>model_pow_14</th>\n",
       "      <td>5</td>\n",
       "      <td>1.8e+03</td>\n",
       "      <td>-1.3e+04</td>\n",
       "      <td>4e+04</td>\n",
       "      <td>-7.4e+04</td>\n",
       "      <td>9.1e+04</td>\n",
       "      <td>-7.7e+04</td>\n",
       "      <td>4.7e+04</td>\n",
       "      <td>-2.1e+04</td>\n",
       "      <td>7e+03</td>\n",
       "      <td>-1.7e+03</td>\n",
       "      <td>3e+02</td>\n",
       "      <td>-38</td>\n",
       "      <td>3.2</td>\n",
       "      <td>-0.16</td>\n",
       "      <td>0.0037</td>\n",
       "      <td>NaN</td>\n",
       "    </tr>\n",
       "    <tr>\n",
       "      <th>model_pow_15</th>\n",
       "      <td>4.9</td>\n",
       "      <td>3.7e+03</td>\n",
       "      <td>-2.8e+04</td>\n",
       "      <td>9.1e+04</td>\n",
       "      <td>-1.8e+05</td>\n",
       "      <td>2.3e+05</td>\n",
       "      <td>-2.1e+05</td>\n",
       "      <td>1.4e+05</td>\n",
       "      <td>-6.7e+04</td>\n",
       "      <td>2.5e+04</td>\n",
       "      <td>-6.8e+03</td>\n",
       "      <td>1.4e+03</td>\n",
       "      <td>-2.2e+02</td>\n",
       "      <td>24</td>\n",
       "      <td>-1.8</td>\n",
       "      <td>0.079</td>\n",
       "      <td>-0.0016</td>\n",
       "    </tr>\n",
       "  </tbody>\n",
       "</table>\n",
       "</div>"
      ],
      "text/plain": [
       "             rss intercept coef_x^1 coef_x^2 coef_x^3 coef_x^4 coef_x^5  \\\n",
       "model_pow_1  9.9       1.9    -0.61      NaN      NaN      NaN      NaN   \n",
       "model_pow_2  9.9         2    -0.68    0.012      NaN      NaN      NaN   \n",
       "model_pow_3  5.7     -0.12      2.1       -1     0.11      NaN      NaN   \n",
       "model_pow_4  5.7      0.34      1.3     -0.5   -0.012   0.0099      NaN   \n",
       "model_pow_5  5.6       1.6     -1.9      2.1       -1     0.18   -0.011   \n",
       "model_pow_6  5.5       2.5     -4.5        5     -2.5      0.6   -0.068   \n",
       "model_pow_7  5.5      -1.8       11      -15       11     -4.7      1.1   \n",
       "model_pow_8  5.4       7.2      -25       42      -38       19     -6.1   \n",
       "model_pow_9  5.4        12      -48       84      -79       45      -16   \n",
       "model_pow_10 5.4       -23  1.3e+02 -2.9e+02  3.6e+02 -2.8e+02  1.4e+02   \n",
       "model_pow_11 5.4       -73  4.1e+02 -9.4e+02  1.2e+03   -1e+03  5.6e+02   \n",
       "model_pow_12 5.3  -1.9e+02  1.1e+03 -2.8e+03  4.1e+03 -3.7e+03  2.4e+03   \n",
       "model_pow_13 5.3         4 -1.6e+02  8.6e+02 -2.1e+03    3e+03 -2.7e+03   \n",
       "model_pow_14   5   1.8e+03 -1.3e+04    4e+04 -7.4e+04  9.1e+04 -7.7e+04   \n",
       "model_pow_15 4.9   3.7e+03 -2.8e+04  9.1e+04 -1.8e+05  2.3e+05 -2.1e+05   \n",
       "\n",
       "             coef_x^6 coef_x^7 coef_x^8 coef_x^9 coef_x^10 coef_x^11  \\\n",
       "model_pow_1       NaN      NaN      NaN      NaN       NaN       NaN   \n",
       "model_pow_2       NaN      NaN      NaN      NaN       NaN       NaN   \n",
       "model_pow_3       NaN      NaN      NaN      NaN       NaN       NaN   \n",
       "model_pow_4       NaN      NaN      NaN      NaN       NaN       NaN   \n",
       "model_pow_5       NaN      NaN      NaN      NaN       NaN       NaN   \n",
       "model_pow_6    0.0031      NaN      NaN      NaN       NaN       NaN   \n",
       "model_pow_7     -0.13   0.0059      NaN      NaN       NaN       NaN   \n",
       "model_pow_8       1.1    -0.12   0.0049      NaN       NaN       NaN   \n",
       "model_pow_9       3.5    -0.47    0.035  -0.0011       NaN       NaN   \n",
       "model_pow_10      -44      9.3     -1.2    0.093    -0.003       NaN   \n",
       "model_pow_11 -2.1e+02       52     -8.8     0.95     -0.06    0.0017   \n",
       "model_pow_12   -1e+03  3.2e+02      -69       10        -1      0.06   \n",
       "model_pow_13  1.7e+03 -7.2e+02  2.2e+02      -48       7.1     -0.69   \n",
       "model_pow_14  4.7e+04 -2.1e+04    7e+03 -1.7e+03     3e+02       -38   \n",
       "model_pow_15  1.4e+05 -6.7e+04  2.5e+04 -6.8e+03   1.4e+03  -2.2e+02   \n",
       "\n",
       "             coef_x^12 coef_x^13 coef_x^14 coef_x^15  \n",
       "model_pow_1        NaN       NaN       NaN       NaN  \n",
       "model_pow_2        NaN       NaN       NaN       NaN  \n",
       "model_pow_3        NaN       NaN       NaN       NaN  \n",
       "model_pow_4        NaN       NaN       NaN       NaN  \n",
       "model_pow_5        NaN       NaN       NaN       NaN  \n",
       "model_pow_6        NaN       NaN       NaN       NaN  \n",
       "model_pow_7        NaN       NaN       NaN       NaN  \n",
       "model_pow_8        NaN       NaN       NaN       NaN  \n",
       "model_pow_9        NaN       NaN       NaN       NaN  \n",
       "model_pow_10       NaN       NaN       NaN       NaN  \n",
       "model_pow_11       NaN       NaN       NaN       NaN  \n",
       "model_pow_12   -0.0016       NaN       NaN       NaN  \n",
       "model_pow_13      0.04    -0.001       NaN       NaN  \n",
       "model_pow_14       3.2     -0.16    0.0037       NaN  \n",
       "model_pow_15        24      -1.8     0.079   -0.0016  "
      ]
     },
     "execution_count": 6,
     "metadata": {},
     "output_type": "execute_result"
    }
   ],
   "source": [
    "#Set the display format to be scientific for ease of analysis\n",
    "pd.options.display.float_format = '{:,.2g}'.format\n",
    "coef_matrix_simple"
   ]
  },
  {
   "cell_type": "markdown",
   "metadata": {},
   "source": [
    "## Ridge regression (L2 penalty)"
   ]
  },
  {
   "cell_type": "code",
   "execution_count": 7,
   "metadata": {},
   "outputs": [],
   "source": [
    "from sklearn.linear_model import Ridge\n",
    "def ridge_regression(data, predictors, alpha, models_to_plot={}):\n",
    "    #Fit the model\n",
    "    ridgereg = Ridge(alpha=alpha,normalize=True)\n",
    "    ridgereg.fit(data[predictors],data['y'])\n",
    "    y_pred = ridgereg.predict(data[predictors])\n",
    "    \n",
    "    #Check if a plot is to be made for the entered alpha\n",
    "    if alpha in models_to_plot:\n",
    "        plt.subplot(models_to_plot[alpha])\n",
    "        plt.tight_layout()\n",
    "        plt.plot(data['x'],y_pred)\n",
    "        plt.plot(data['x'],data['y'],'.')\n",
    "        plt.title('Plot for alpha: %.3g'%alpha)\n",
    "    \n",
    "    #Return the result in pre-defined format\n",
    "    rss = sum((y_pred-data['y'])**2)\n",
    "    ret = [rss]\n",
    "    ret.extend([ridgereg.intercept_])\n",
    "    ret.extend(ridgereg.coef_)\n",
    "    return ret"
   ]
  },
  {
   "cell_type": "code",
   "execution_count": 8,
   "metadata": {},
   "outputs": [
    {
     "name": "stderr",
     "output_type": "stream",
     "text": [
      "/anaconda3/lib/python3.6/site-packages/sklearn/linear_model/ridge.py:125: LinAlgWarning: scipy.linalg.solve\n",
      "Ill-conditioned matrix detected. Result is not guaranteed to be accurate.\n",
      "Reciprocal condition number5.006291e-17\n",
      "  overwrite_a=True).T\n"
     ]
    },
    {
     "data": {
      "image/png": "[encoded data removed]",
      "text/plain": [
       "<Figure size 864x576 with 6 Axes>"
      ]
     },
     "metadata": {
      "needs_background": "light"
     },
     "output_type": "display_data"
    }
   ],
   "source": [
    "#Initialize predictors to be set of 15 powers of x\n",
    "predictors=['x']\n",
    "predictors.extend(['x^%d'%i for i in range(2,16)])\n",
    "\n",
    "#Set the different values of alpha to be tested\n",
    "alpha_ridge = [1e-15, 1e-10, 1e-8, 1e-4, 1e-3,1e-2, 1, 5, 10, 20]\n",
    "\n",
    "#Initialize the dataframe for storing coefficients.\n",
    "col = ['rss','intercept'] + ['coef_x^%d'%i for i in range(1,16)]\n",
    "ind = ['alpha_%.2g'%alpha_ridge[i] for i in range(0,10)]\n",
    "coef_matrix_ridge = pd.DataFrame(index=ind, columns=col)\n",
    "\n",
    "plt.figure(figsize=(12,8))\n",
    "models_to_plot = {1e-15:231, 1e-10:232, 1e-4:233, 1e-3:234, 1e-2:235, 5:236}\n",
    "for i in range(10):\n",
    "    coef_matrix_ridge.iloc[i,] = ridge_regression(data, predictors, alpha_ridge[i], models_to_plot)"
   ]
  },
  {
   "cell_type": "code",
   "execution_count": 9,
   "metadata": {},
   "outputs": [
    {
     "data": {
      "text/plain": [
       "alpha_1e-15     0\n",
       "alpha_1e-10     0\n",
       "alpha_1e-08     0\n",
       "alpha_0.0001    0\n",
       "alpha_0.001     0\n",
       "alpha_0.01      0\n",
       "alpha_1         0\n",
       "alpha_5         0\n",
       "alpha_10        0\n",
       "alpha_20        0\n",
       "dtype: int64"
      ]
     },
     "execution_count": 9,
     "metadata": {},
     "output_type": "execute_result"
    }
   ],
   "source": [
    "coef_matrix_ridge.apply(lambda x: sum(x.values==0),axis=1)"
   ]
  },
  {
   "cell_type": "code",
   "execution_count": 10,
   "metadata": {
    "scrolled": true
   },
   "outputs": [
    {
     "name": "stdout",
     "output_type": "stream",
     "text": [
      "alpha_1e-15 \t 0\n",
      "alpha_1e-10 \t 0\n",
      "alpha_1e-08 \t 0\n",
      "alpha_0.0001 \t 0\n",
      "alpha_0.001 \t 0\n",
      "alpha_0.01 \t 0\n",
      "alpha_1 \t 0\n",
      "alpha_5 \t 0\n",
      "alpha_10 \t 0\n",
      "alpha_20 \t 0\n"
     ]
    }
   ],
   "source": [
    "for alpha in coef_matrix_ridge.index:\n",
    "    print(alpha, \"\\t\", sum([1 for x in coef_matrix_ridge.loc[alpha,] if x == 0]))"
   ]
  },
  {
   "cell_type": "markdown",
   "metadata": {},
   "source": [
    "## Lasso regression (L1 penalty)"
   ]
  },
  {
   "cell_type": "code",
   "execution_count": 11,
   "metadata": {},
   "outputs": [],
   "source": [
    "from sklearn.linear_model import Lasso\n",
    "def lasso_regression(data, predictors, alpha, models_to_plot={}):\n",
    "    #Fit the model\n",
    "    lassoreg = Lasso(alpha=alpha,normalize=True, max_iter=1e5)\n",
    "    lassoreg.fit(data[predictors],data['y'])\n",
    "    y_pred = lassoreg.predict(data[predictors])\n",
    "    \n",
    "    #Check if a plot is to be made for the entered alpha\n",
    "    if alpha in models_to_plot:\n",
    "        plt.subplot(models_to_plot[alpha])\n",
    "        plt.tight_layout()\n",
    "        plt.plot(data['x'],y_pred)\n",
    "        plt.plot(data['x'],data['y'],'.')\n",
    "        plt.title('Plot for alpha: %.3g'%alpha)\n",
    "    \n",
    "    #Return the result in pre-defined format\n",
    "    rss = sum((y_pred-data['y'])**2)\n",
    "    ret = [rss]\n",
    "    ret.extend([lassoreg.intercept_])\n",
    "    ret.extend(lassoreg.coef_)\n",
    "    return ret"
   ]
  },
  {
   "cell_type": "code",
   "execution_count": 12,
   "metadata": {},
   "outputs": [
    {
     "data": {
      "image/png": "[encoded data removed]",
      "text/plain": [
       "<Figure size 864x576 with 6 Axes>"
      ]
     },
     "metadata": {
      "needs_background": "light"
     },
     "output_type": "display_data"
    }
   ],
   "source": [
    "#Initialize predictors to all 15 powers of x\n",
    "predictors=['x']\n",
    "predictors.extend(['x^%d'%i for i in range(2,16)])\n",
    "\n",
    "#Define the alpha values to test\n",
    "alpha_lasso = [1e-15, 1e-10, 1e-8, 1e-5,1e-4, 1e-3,1e-2, 1, 5, 10]\n",
    "\n",
    "#Initialize the dataframe to store coefficients\n",
    "col = ['rss','intercept'] + ['coef_x^%d'%i for i in range(1,16)]\n",
    "ind = ['alpha_%.2g'%alpha_lasso[i] for i in range(0,10)]\n",
    "coef_matrix_lasso = pd.DataFrame(index=ind, columns=col)\n",
    "\n",
    "#Define the models to plot\n",
    "models_to_plot = {1e-10:231, 1e-5:232,1e-4:233, 1e-3:234, 1e-2:235, 1:236}\n",
    "\n",
    "plt.figure(figsize=(12,8))\n",
    "\n",
    "# Filter out ConvergenceWarning (we'll see if it really doesn't converge)\n",
    "with warnings.catch_warnings():\n",
    "    warnings.simplefilter(\"ignore\")\n",
    "    #Iterate over the 10 alpha values:\n",
    "    for i in range(10):\n",
    "        coef_matrix_lasso.iloc[i,] = lasso_regression(data, predictors, alpha_lasso[i], models_to_plot)"
   ]
  },
  {
   "cell_type": "code",
   "execution_count": 13,
   "metadata": {},
   "outputs": [
    {
     "data": {
      "text/plain": [
       "alpha_1e-15      0\n",
       "alpha_1e-10      0\n",
       "alpha_1e-08      0\n",
       "alpha_1e-05      8\n",
       "alpha_0.0001     9\n",
       "alpha_0.001     12\n",
       "alpha_0.01      14\n",
       "alpha_1         15\n",
       "alpha_5         15\n",
       "alpha_10        15\n",
       "dtype: int64"
      ]
     },
     "execution_count": 13,
     "metadata": {},
     "output_type": "execute_result"
    }
   ],
   "source": [
    "coef_matrix_lasso.apply(lambda x: sum(x.values==0),axis=1)"
   ]
  },
  {
   "cell_type": "markdown",
   "metadata": {},
   "source": [
    "## Use cross-validation to choose the best alpha"
   ]
  },
  {
   "cell_type": "code",
   "execution_count": 14,
   "metadata": {},
   "outputs": [
    {
     "data": {
      "text/plain": [
       "GridSearchCV(cv=5, error_score='raise-deprecating',\n",
       "       estimator=Lasso(alpha=1.0, copy_X=True, fit_intercept=True, max_iter=5000,\n",
       "   normalize=False, positive=False, precompute=False, random_state=None,\n",
       "   selection='cyclic', tol=0.0001, warm_start=False),\n",
       "       fit_params=None, iid='warn', n_jobs=None,\n",
       "       param_grid={'alpha': [0.001, 0.01, 0.1, 1, 10, 100]},\n",
       "       pre_dispatch='2*n_jobs', refit=True, return_train_score='warn',\n",
       "       scoring='r2', verbose=0)"
      ]
     },
     "execution_count": 14,
     "metadata": {},
     "output_type": "execute_result"
    }
   ],
   "source": [
    "from sklearn.model_selection import GridSearchCV\n",
    "parameters = {\"alpha\":[pow(10, x) for x in range(-3, 3)]}\n",
    "estimator = Lasso(max_iter=5000)\n",
    "cv = GridSearchCV(estimator, parameters, cv=5, scoring='r2')\n",
    "cv"
   ]
  },
  {
   "cell_type": "code",
   "execution_count": 15,
   "metadata": {},
   "outputs": [
    {
     "data": {
      "text/plain": [
       "Lasso(alpha=0.001, copy_X=True, fit_intercept=True, max_iter=5000,\n",
       "   normalize=False, positive=False, precompute=False, random_state=None,\n",
       "   selection='cyclic', tol=0.0001, warm_start=False)"
      ]
     },
     "execution_count": 15,
     "metadata": {},
     "output_type": "execute_result"
    }
   ],
   "source": [
    "# Filter out ConvergenceWarning\n",
    "with warnings.catch_warnings():\n",
    "    warnings.simplefilter(\"ignore\")\n",
    "    cv.fit(data, y)\n",
    "cv.best_estimator_"
   ]
  },
  {
   "cell_type": "code",
   "execution_count": 16,
   "metadata": {},
   "outputs": [
    {
     "data": {
      "text/plain": [
       "array([-0.00000000e+00,  9.88296258e-01, -0.00000000e+00, -0.00000000e+00,\n",
       "       -2.26936950e-04,  1.18650127e-05,  4.31416089e-06,  4.03276523e-07,\n",
       "        2.00594061e-08, -2.50042747e-09, -9.93988465e-10, -1.96137637e-10,\n",
       "       -2.78970607e-11, -2.43092870e-12,  1.63560122e-13,  1.49527978e-13])"
      ]
     },
     "execution_count": 16,
     "metadata": {},
     "output_type": "execute_result"
    }
   ],
   "source": [
    "# Filter out ConvergenceWarning\n",
    "with warnings.catch_warnings():\n",
    "    warnings.simplefilter(\"ignore\")\n",
    "    coef = cv.best_estimator_.fit(data, y).coef_\n",
    "coef"
   ]
  },
  {
   "cell_type": "markdown",
   "metadata": {},
   "source": [
    "## Another example of CV and grid search"
   ]
  },
  {
   "cell_type": "code",
   "execution_count": 17,
   "metadata": {
    "scrolled": true
   },
   "outputs": [
    {
     "data": {
      "text/plain": [
       "((442, 10),\n",
       " array([ 0.03807591,  0.05068012,  0.06169621,  0.02187235, -0.0442235 ,\n",
       "        -0.03482076, -0.04340085, -0.00259226,  0.01990842, -0.01764613]),\n",
       " 151.0)"
      ]
     },
     "execution_count": 17,
     "metadata": {},
     "output_type": "execute_result"
    }
   ],
   "source": [
    "from sklearn.datasets import load_diabetes\n",
    "from sklearn.ensemble import RandomForestRegressor\n",
    "\n",
    "# Load one of the sklearn sample datasets, with the optional argument to return it as a tuple\n",
    "X, y = load_diabetes(return_X_y = True)\n",
    "\n",
    "X.shape, X[0], y[0]"
   ]
  },
  {
   "cell_type": "code",
   "execution_count": 18,
   "metadata": {
    "scrolled": true
   },
   "outputs": [
    {
     "name": "stderr",
     "output_type": "stream",
     "text": [
      "/anaconda3/lib/python3.6/site-packages/sklearn/model_selection/_search.py:841: DeprecationWarning: The default of the `iid` parameter will change from True to False in version 0.22 and will be removed in 0.24. This will change numeric results when test-set sizes are unequal.\n",
      "  DeprecationWarning)\n"
     ]
    },
    {
     "data": {
      "text/plain": [
       "GridSearchCV(cv=5, error_score='raise-deprecating',\n",
       "       estimator=RandomForestRegressor(bootstrap=True, criterion='mse', max_depth=None,\n",
       "           max_features='auto', max_leaf_nodes=None,\n",
       "           min_impurity_decrease=0.0, min_impurity_split=None,\n",
       "           min_samples_leaf=1, min_samples_split=2,\n",
       "           min_weight_fraction_leaf=0.0, n_estimators='warn', n_jobs=None,\n",
       "           oob_score=False, random_state=0, verbose=0, warm_start=False),\n",
       "       fit_params=None, iid='warn', n_jobs=None,\n",
       "       param_grid={'n_estimators': [10, 25, 50, 100], 'max_depth': [1, 2, 3, 4], 'max_features': ['auto', 'sqrt', 'log2']},\n",
       "       pre_dispatch='2*n_jobs', refit=True, return_train_score='warn',\n",
       "       scoring='r2', verbose=0)"
      ]
     },
     "execution_count": 18,
     "metadata": {},
     "output_type": "execute_result"
    }
   ],
   "source": [
    "parameters = {\"n_estimators\":[10, 25, 50, 100], \n",
    "              \"max_depth\":list(range(1, 5)), \n",
    "              \"max_features\":['auto', 'sqrt', 'log2']}\n",
    "\n",
    "rf = RandomForestRegressor(random_state=0)\n",
    "cv = GridSearchCV(rf, parameters, cv=5, scoring='r2')\n",
    "cv.fit(X,y)"
   ]
  },
  {
   "cell_type": "code",
   "execution_count": 19,
   "metadata": {},
   "outputs": [
    {
     "data": {
      "text/plain": [
       "RandomForestRegressor(bootstrap=True, criterion='mse', max_depth=4,\n",
       "           max_features='sqrt', max_leaf_nodes=None,\n",
       "           min_impurity_decrease=0.0, min_impurity_split=None,\n",
       "           min_samples_leaf=1, min_samples_split=2,\n",
       "           min_weight_fraction_leaf=0.0, n_estimators=100, n_jobs=None,\n",
       "           oob_score=False, random_state=0, verbose=0, warm_start=False)"
      ]
     },
     "execution_count": 19,
     "metadata": {},
     "output_type": "execute_result"
    }
   ],
   "source": [
    "best_rf = cv.best_estimator_\n",
    "best_rf"
   ]
  },
  {
   "cell_type": "code",
   "execution_count": 20,
   "metadata": {},
   "outputs": [
    {
     "name": "stdout",
     "output_type": "stream",
     "text": [
      "Age \t 0.023499024950722928\n",
      "Sex \t 0.0051530273685639815\n",
      "BMI \t 0.3104260226584512\n",
      "Blood pressure \t 0.10948320932235722\n",
      "Blood test 1 \t 0.02540839905147572\n",
      "Blood test 2 \t 0.029218499031269073\n",
      "Blood test 3 \t 0.05927891857060536\n",
      "Blood test 4 \t 0.09451126653344918\n",
      "Blood test 5 \t 0.26091916523588576\n",
      "Blood test 6 \t 0.08210246727721959\n"
     ]
    }
   ],
   "source": [
    "# Note: using all of the data like this, rather than splitting test and train, is not a valid approach in most contexts\n",
    "features = [\"Age\", \"Sex\", \"BMI\", \"Blood pressure\"] + [\"Blood test %d\" % i for i in range(1,7)]\n",
    "importances = best_rf.fit(X, y).feature_importances_\n",
    "for i in range(len(features)):\n",
    "    print(features[i], \"\\t\", importances[i])"
   ]
  }
 ],
 "metadata": {
  "kernelspec": {
   "display_name": "Python 3",
   "language": "python",
   "name": "python3"
  },
  "language_info": {
   "codemirror_mode": {
    "name": "ipython",
    "version": 3
   },
   "file_extension": ".py",
   "mimetype": "text/x-python",
   "name": "python",
   "nbconvert_exporter": "python",
   "pygments_lexer": "ipython3",
   "version": "3.7.1"
  }
 },
 "nbformat": 4,
 "nbformat_minor": 2
}
